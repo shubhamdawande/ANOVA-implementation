{
  "nbformat": 4,
  "nbformat_minor": 0,
  "metadata": {
    "colab": {
      "provenance": []
    },
    "kernelspec": {
      "name": "python3",
      "display_name": "Python 3"
    },
    "language_info": {
      "name": "python"
    }
  },
  "cells": [
    {
      "cell_type": "markdown",
      "source": [
        "### Here we perform hypothesis testing using 1-way ANOVA from scratch\n",
        "\n",
        "- Generate synthetic dataset\n",
        "- Find variance between different groups\n",
        "- Find variance within different groups\n",
        "- Find f statistic\n",
        "- Find p-value\n",
        "- Hypothesis test conclusion"
      ],
      "metadata": {
        "id": "u-IAhCyvTCWz"
      }
    },
    {
      "cell_type": "code",
      "execution_count": 1,
      "metadata": {
        "id": "wIK5yvTQR0Tt"
      },
      "outputs": [],
      "source": [
        "import pandas as pd\n",
        "import scipy.stats"
      ]
    },
    {
      "cell_type": "code",
      "source": [
        "# Dataset: Car part durations in months when bought from different vendors\n",
        "v1 = [5, 8, 7, 3, 2]\n",
        "v2 = [12, 8, 10, 10, 15]\n",
        "v3 = [7, 8, 5, 4, 6]\n",
        "\n",
        "all_durations = v1 + v2 + v3\n",
        "vendor_ids = (['v1'] * len(v1)) +  (['v2'] * len(v2)) +  (['v3'] * len(v3))\n",
        "data = pd.DataFrame({'vendor': vendor_ids, 'duration': all_durations})\n",
        "data"
      ],
      "metadata": {
        "colab": {
          "base_uri": "https://localhost:8080/",
          "height": 519
        },
        "id": "5ZKJpzFbTZPm",
        "outputId": "f5ff319c-1229-41a8-9771-98484d56d401"
      },
      "execution_count": 17,
      "outputs": [
        {
          "output_type": "execute_result",
          "data": {
            "text/plain": [
              "   vendor  duration\n",
              "0      v1         5\n",
              "1      v1         8\n",
              "2      v1         7\n",
              "3      v1         3\n",
              "4      v1         2\n",
              "5      v2        12\n",
              "6      v2         8\n",
              "7      v2        10\n",
              "8      v2        10\n",
              "9      v2        15\n",
              "10     v3         7\n",
              "11     v3         8\n",
              "12     v3         5\n",
              "13     v3         4\n",
              "14     v3         6"
            ],
            "text/html": [
              "\n",
              "  <div id=\"df-6e0175ec-867d-4887-8280-17e6b1ba1c72\">\n",
              "    <div class=\"colab-df-container\">\n",
              "      <div>\n",
              "<style scoped>\n",
              "    .dataframe tbody tr th:only-of-type {\n",
              "        vertical-align: middle;\n",
              "    }\n",
              "\n",
              "    .dataframe tbody tr th {\n",
              "        vertical-align: top;\n",
              "    }\n",
              "\n",
              "    .dataframe thead th {\n",
              "        text-align: right;\n",
              "    }\n",
              "</style>\n",
              "<table border=\"1\" class=\"dataframe\">\n",
              "  <thead>\n",
              "    <tr style=\"text-align: right;\">\n",
              "      <th></th>\n",
              "      <th>vendor</th>\n",
              "      <th>duration</th>\n",
              "    </tr>\n",
              "  </thead>\n",
              "  <tbody>\n",
              "    <tr>\n",
              "      <th>0</th>\n",
              "      <td>v1</td>\n",
              "      <td>5</td>\n",
              "    </tr>\n",
              "    <tr>\n",
              "      <th>1</th>\n",
              "      <td>v1</td>\n",
              "      <td>8</td>\n",
              "    </tr>\n",
              "    <tr>\n",
              "      <th>2</th>\n",
              "      <td>v1</td>\n",
              "      <td>7</td>\n",
              "    </tr>\n",
              "    <tr>\n",
              "      <th>3</th>\n",
              "      <td>v1</td>\n",
              "      <td>3</td>\n",
              "    </tr>\n",
              "    <tr>\n",
              "      <th>4</th>\n",
              "      <td>v1</td>\n",
              "      <td>2</td>\n",
              "    </tr>\n",
              "    <tr>\n",
              "      <th>5</th>\n",
              "      <td>v2</td>\n",
              "      <td>12</td>\n",
              "    </tr>\n",
              "    <tr>\n",
              "      <th>6</th>\n",
              "      <td>v2</td>\n",
              "      <td>8</td>\n",
              "    </tr>\n",
              "    <tr>\n",
              "      <th>7</th>\n",
              "      <td>v2</td>\n",
              "      <td>10</td>\n",
              "    </tr>\n",
              "    <tr>\n",
              "      <th>8</th>\n",
              "      <td>v2</td>\n",
              "      <td>10</td>\n",
              "    </tr>\n",
              "    <tr>\n",
              "      <th>9</th>\n",
              "      <td>v2</td>\n",
              "      <td>15</td>\n",
              "    </tr>\n",
              "    <tr>\n",
              "      <th>10</th>\n",
              "      <td>v3</td>\n",
              "      <td>7</td>\n",
              "    </tr>\n",
              "    <tr>\n",
              "      <th>11</th>\n",
              "      <td>v3</td>\n",
              "      <td>8</td>\n",
              "    </tr>\n",
              "    <tr>\n",
              "      <th>12</th>\n",
              "      <td>v3</td>\n",
              "      <td>5</td>\n",
              "    </tr>\n",
              "    <tr>\n",
              "      <th>13</th>\n",
              "      <td>v3</td>\n",
              "      <td>4</td>\n",
              "    </tr>\n",
              "    <tr>\n",
              "      <th>14</th>\n",
              "      <td>v3</td>\n",
              "      <td>6</td>\n",
              "    </tr>\n",
              "  </tbody>\n",
              "</table>\n",
              "</div>\n",
              "      <button class=\"colab-df-convert\" onclick=\"convertToInteractive('df-6e0175ec-867d-4887-8280-17e6b1ba1c72')\"\n",
              "              title=\"Convert this dataframe to an interactive table.\"\n",
              "              style=\"display:none;\">\n",
              "        \n",
              "  <svg xmlns=\"http://www.w3.org/2000/svg\" height=\"24px\"viewBox=\"0 0 24 24\"\n",
              "       width=\"24px\">\n",
              "    <path d=\"M0 0h24v24H0V0z\" fill=\"none\"/>\n",
              "    <path d=\"M18.56 5.44l.94 2.06.94-2.06 2.06-.94-2.06-.94-.94-2.06-.94 2.06-2.06.94zm-11 1L8.5 8.5l.94-2.06 2.06-.94-2.06-.94L8.5 2.5l-.94 2.06-2.06.94zm10 10l.94 2.06.94-2.06 2.06-.94-2.06-.94-.94-2.06-.94 2.06-2.06.94z\"/><path d=\"M17.41 7.96l-1.37-1.37c-.4-.4-.92-.59-1.43-.59-.52 0-1.04.2-1.43.59L10.3 9.45l-7.72 7.72c-.78.78-.78 2.05 0 2.83L4 21.41c.39.39.9.59 1.41.59.51 0 1.02-.2 1.41-.59l7.78-7.78 2.81-2.81c.8-.78.8-2.07 0-2.86zM5.41 20L4 18.59l7.72-7.72 1.47 1.35L5.41 20z\"/>\n",
              "  </svg>\n",
              "      </button>\n",
              "      \n",
              "  <style>\n",
              "    .colab-df-container {\n",
              "      display:flex;\n",
              "      flex-wrap:wrap;\n",
              "      gap: 12px;\n",
              "    }\n",
              "\n",
              "    .colab-df-convert {\n",
              "      background-color: #E8F0FE;\n",
              "      border: none;\n",
              "      border-radius: 50%;\n",
              "      cursor: pointer;\n",
              "      display: none;\n",
              "      fill: #1967D2;\n",
              "      height: 32px;\n",
              "      padding: 0 0 0 0;\n",
              "      width: 32px;\n",
              "    }\n",
              "\n",
              "    .colab-df-convert:hover {\n",
              "      background-color: #E2EBFA;\n",
              "      box-shadow: 0px 1px 2px rgba(60, 64, 67, 0.3), 0px 1px 3px 1px rgba(60, 64, 67, 0.15);\n",
              "      fill: #174EA6;\n",
              "    }\n",
              "\n",
              "    [theme=dark] .colab-df-convert {\n",
              "      background-color: #3B4455;\n",
              "      fill: #D2E3FC;\n",
              "    }\n",
              "\n",
              "    [theme=dark] .colab-df-convert:hover {\n",
              "      background-color: #434B5C;\n",
              "      box-shadow: 0px 1px 3px 1px rgba(0, 0, 0, 0.15);\n",
              "      filter: drop-shadow(0px 1px 2px rgba(0, 0, 0, 0.3));\n",
              "      fill: #FFFFFF;\n",
              "    }\n",
              "  </style>\n",
              "\n",
              "      <script>\n",
              "        const buttonEl =\n",
              "          document.querySelector('#df-6e0175ec-867d-4887-8280-17e6b1ba1c72 button.colab-df-convert');\n",
              "        buttonEl.style.display =\n",
              "          google.colab.kernel.accessAllowed ? 'block' : 'none';\n",
              "\n",
              "        async function convertToInteractive(key) {\n",
              "          const element = document.querySelector('#df-6e0175ec-867d-4887-8280-17e6b1ba1c72');\n",
              "          const dataTable =\n",
              "            await google.colab.kernel.invokeFunction('convertToInteractive',\n",
              "                                                     [key], {});\n",
              "          if (!dataTable) return;\n",
              "\n",
              "          const docLinkHtml = 'Like what you see? Visit the ' +\n",
              "            '<a target=\"_blank\" href=https://colab.research.google.com/notebooks/data_table.ipynb>data table notebook</a>'\n",
              "            + ' to learn more about interactive tables.';\n",
              "          element.innerHTML = '';\n",
              "          dataTable['output_type'] = 'display_data';\n",
              "          await google.colab.output.renderOutput(dataTable, element);\n",
              "          const docLink = document.createElement('div');\n",
              "          docLink.innerHTML = docLinkHtml;\n",
              "          element.appendChild(docLink);\n",
              "        }\n",
              "      </script>\n",
              "    </div>\n",
              "  </div>\n",
              "  "
            ]
          },
          "metadata": {},
          "execution_count": 17
        }
      ]
    },
    {
      "cell_type": "code",
      "source": [
        "# compute overall mean\n",
        "overall_mean = data['duration'].mean()\n",
        "print(overall_mean)\n",
        "\n",
        "# compute Sum of Squares Total\n",
        "data['overall_mean'] = overall_mean\n",
        "ss_total = sum((data['duration'] - data['overall_mean'])**2)\n",
        "print(ss_total)\n",
        "\n",
        "# compute group means\n",
        "group_means = data.groupby('vendor').mean()\n",
        "group_means = group_means.rename(columns = {'duration': 'group_mean'})\n",
        "print(group_means)"
      ],
      "metadata": {
        "colab": {
          "base_uri": "https://localhost:8080/"
        },
        "id": "qPcG6RuxR47z",
        "outputId": "1e97aad5-fdd4-47f6-a936-7a76d7e09889"
      },
      "execution_count": 18,
      "outputs": [
        {
          "output_type": "stream",
          "name": "stdout",
          "text": [
            "7.333333333333333\n",
            "167.33333333333334\n",
            "        group_mean  overall_mean\n",
            "vendor                          \n",
            "v1             5.0      7.333333\n",
            "v2            11.0      7.333333\n",
            "v3             6.0      7.333333\n"
          ]
        }
      ]
    },
    {
      "cell_type": "code",
      "source": [
        "# add group means and overall mean to the original data frame\n",
        "group_means.drop(columns=['overall_mean'], inplace=True)\n",
        "data = data.merge(group_means, left_on = 'vendor', right_index = True)\n",
        "# compute Sum of Squares Residual\n",
        "ss_residual = sum((data['duration'] - data['group_mean'])**2)\n",
        "print('ss_residual', ss_residual)\n",
        "\n",
        "# # compute Sum of Squares Model\n",
        "ss_explained = sum((data['overall_mean'] - data['group_mean'])**2)\n",
        "print('ss_explained', ss_explained)\n",
        "\n",
        "# compute Mean Square Residual\n",
        "n_groups = len(set(data['vendor']))\n",
        "n_obs = data.shape[0]\n",
        "df_residual = n_obs - n_groups\n",
        "ms_residual = ss_residual / df_residual\n",
        "print('ms_residual', ms_residual)\n",
        "\n",
        "# compute Mean Square Explained\n",
        "df_explained = n_groups - 1\n",
        "ms_explained = ss_explained / df_explained\n",
        "print('ms_explained', ms_explained)\n",
        "\n",
        "# compute F-Value\n",
        "f_stat = ms_explained / ms_residual\n",
        "print('f_stat', f_stat)"
      ],
      "metadata": {
        "colab": {
          "base_uri": "https://localhost:8080/"
        },
        "id": "VAC9AXJHTaZU",
        "outputId": "73b9db5f-7dba-47a3-fd53-8486e1fa7991"
      },
      "execution_count": 20,
      "outputs": [
        {
          "output_type": "stream",
          "name": "stdout",
          "text": [
            "ss_residual 64.0\n",
            "ss_explained 103.33333333333329\n",
            "ms_residual 5.333333333333333\n",
            "ms_explained 51.66666666666664\n",
            "f_stat 9.687499999999996\n"
          ]
        }
      ]
    },
    {
      "cell_type": "code",
      "source": [
        "# compute p-value\n",
        "p_value = 1 - scipy.stats.f.cdf(f_stat, df_explained, df_residual)\n",
        "p_value"
      ],
      "metadata": {
        "colab": {
          "base_uri": "https://localhost:8080/"
        },
        "id": "J00AnwH5TmkN",
        "outputId": "63464032-2687-403f-8713-4248eed00b0e"
      },
      "execution_count": 22,
      "outputs": [
        {
          "output_type": "execute_result",
          "data": {
            "text/plain": [
              "0.0031302935716037705"
            ]
          },
          "metadata": {},
          "execution_count": 22
        }
      ]
    },
    {
      "cell_type": "markdown",
      "source": [
        "- p-value we got is 0.003 which is lower than expected 0.05 threshold, we reject the null hypothesis\n",
        "- That implies mean duration for vendor 2 is higher than other vendors by statistical significance and is not by random chance"
      ],
      "metadata": {
        "id": "rdBlQHS3Vuip"
      }
    }
  ]
}